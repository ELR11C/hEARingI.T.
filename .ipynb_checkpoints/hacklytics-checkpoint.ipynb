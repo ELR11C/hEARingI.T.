{
 "cells": [
  {
   "cell_type": "code",
   "execution_count": 21,
   "id": "f9a4cefb",
   "metadata": {},
   "outputs": [],
   "source": [
    "import numpy as np\n",
    "import pandas as pd\n",
    "import matplotlib.pyplot as plt\n",
    "import seaborn as sns\n",
    "import tqdm\n",
    "import sklearn\n",
    "import tensorflow as tf\n",
    "from collections import Counter\n"
   ]
  },
  {
   "cell_type": "code",
   "execution_count": 6,
   "id": "30c7c231",
   "metadata": {},
   "outputs": [],
   "source": [
    "df = pd.read_csv('C:\\\\Users\\\\sshet\\\\Documents\\\\GitHub\\\\SameerEric\\\\Paper1_WebData_Final.csv')"
   ]
  },
  {
   "cell_type": "code",
   "execution_count": 9,
   "id": "fe6d5201",
   "metadata": {},
   "outputs": [
    {
     "data": {
      "text/plain": [
       "Index(['test_date', 'nid', 'L500k', 'L1k', 'L2k', 'L3k', 'L4k', 'L6k', 'L8k',\n",
       "       'R500k', 'R1k', 'R2k', 'R3k', 'R4k', 'R6k', 'R8k', 'gender', 'naics',\n",
       "       'age_group', 'region', 'NAICS_descr'],\n",
       "      dtype='object')"
      ]
     },
     "execution_count": 9,
     "metadata": {},
     "output_type": "execute_result"
    }
   ],
   "source": [
    "df.columns"
   ]
  },
  {
   "cell_type": "code",
   "execution_count": 17,
   "id": "8373bcac",
   "metadata": {},
   "outputs": [],
   "source": [
    "L500 = np.array(df['L500k'])\n",
    "L1k = np.array(df['L1k'])\n",
    "L2k = np.array(df['L2k'])\n",
    "L3k = np.array(df['L3k'])\n",
    "L4k = np.array(df['L4k'])\n",
    "L6k = np.array(df['L6k'])\n",
    "L8k = np.array(df['L8k'])\n",
    "R500 = np.array(df['R500k'])\n",
    "R1k = np.array(df['R1k'])\n",
    "R3k = np.array(df['R3k'])\n",
    "R4k = np.array(df['R4k'])\n",
    "R6k = np.array(df['R6k'])\n",
    "R8k = np.array(df['R8k'])\n",
    "gender = np.array(df['gender'])\n",
    "ageGroup = np.array(df['age_group'])\n",
    "industry = np.array(df['NAICS_descr'])\n",
    "naics = np.array(df['naics'])"
   ]
  },
  {
   "cell_type": "code",
   "execution_count": 20,
   "id": "282d52e3",
   "metadata": {},
   "outputs": [],
   "source": [
    "\n"
   ]
  },
  {
   "cell_type": "code",
   "execution_count": null,
   "id": "ddf9f531",
   "metadata": {},
   "outputs": [],
   "source": []
  }
 ],
 "metadata": {
  "kernelspec": {
   "display_name": "Python 3 (ipykernel)",
   "language": "python",
   "name": "python3"
  },
  "language_info": {
   "codemirror_mode": {
    "name": "ipython",
    "version": 3
   },
   "file_extension": ".py",
   "mimetype": "text/x-python",
   "name": "python",
   "nbconvert_exporter": "python",
   "pygments_lexer": "ipython3",
   "version": "3.10.11"
  }
 },
 "nbformat": 4,
 "nbformat_minor": 5
}
